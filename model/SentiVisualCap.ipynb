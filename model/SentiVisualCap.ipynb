{
 "cells": [
  {
   "cell_type": "code",
   "execution_count": 1,
   "id": "7107b7bc",
   "metadata": {
    "ExecuteTime": {
     "end_time": "2023-01-15T13:25:08.266964Z",
     "start_time": "2023-01-15T13:25:08.252838Z"
    }
   },
   "outputs": [],
   "source": [
    "from __future__ import absolute_import, division, print_function, unicode_literals"
   ]
  },
  {
   "cell_type": "code",
   "execution_count": 2,
   "id": "f853cdcd",
   "metadata": {
    "ExecuteTime": {
     "end_time": "2023-01-15T13:25:10.495904Z",
     "start_time": "2023-01-15T13:25:08.438062Z"
    }
   },
   "outputs": [],
   "source": [
    "import tensorflow as tf\n",
    "\n",
    "# import for splitting train test data\n",
    "from sklearn.model_selection import train_test_split\n",
    "from sklearn.utils import shuffle\n",
    "import numpy as np\n",
    "import os\n",
    "import time\n",
    "import json"
   ]
  },
  {
   "cell_type": "code",
   "execution_count": 3,
   "id": "2e636d74",
   "metadata": {
    "ExecuteTime": {
     "end_time": "2023-01-15T13:25:10.538866Z",
     "start_time": "2023-01-15T13:25:10.523180Z"
    }
   },
   "outputs": [],
   "source": [
    "# package to get a progress bar for saving vectors of each image in a .npy file\n",
    "from tqdm import tqdm\n",
    "from IPython.display import Image"
   ]
  },
  {
   "cell_type": "code",
   "execution_count": 4,
   "id": "3c0bed19",
   "metadata": {
    "ExecuteTime": {
     "end_time": "2023-01-15T13:25:10.589243Z",
     "start_time": "2023-01-15T13:25:10.574240Z"
    }
   },
   "outputs": [],
   "source": [
    "# os.environ[\"CUDA_VISIBLE_DEVICES\"]=\"0\"\n",
    "# gpus = tf.config.experimental.list_physical_devices('GPU')\n",
    "# if gpus:\n",
    "#     try:\n",
    "#         tf.config.experimental.set_memory_growth(gpus[0], True)\n",
    "#     except RuntimeError as e:\n",
    "#         print(e)"
   ]
  },
  {
   "cell_type": "code",
   "execution_count": 5,
   "id": "272fa83b",
   "metadata": {
    "ExecuteTime": {
     "end_time": "2023-01-15T13:25:12.845999Z",
     "start_time": "2023-01-15T13:25:10.623180Z"
    }
   },
   "outputs": [],
   "source": [
    "# Code block to automatically download the annotations and images (MS-COCO dataset) from COCO page\n",
    "\n",
    "annotation_zip = tf.keras.utils.get_file('captions.zip',\n",
    "                                          cache_subdir=os.path.abspath('.'),\n",
    "                                          origin = 'http://images.cocodataset.org/annotations/annotations_trainval2014.zip',\n",
    "                                          extract = True)\n",
    "annotation_file = os.path.dirname(annotation_zip)+'/annotations/captions_val2014.json'\n",
    "\n",
    "name_of_zip = 'val2014.zip'\n",
    "if not os.path.exists(os.path.abspath('.') + '/' + name_of_zip):\n",
    "    image_zip = tf.keras.utils.get_file(name_of_zip,\n",
    "                                      cache_subdir=os.path.abspath('.'),\n",
    "                                      origin = 'http://images.cocodataset.org/zips/val2014.zip',\n",
    "                                      extract = True)\n",
    "    PATH = os.path.dirname(image_zip)+'/val2014/'\n",
    "else:\n",
    "    PATH = os.path.abspath('.')+'/val2014/'"
   ]
  },
  {
   "cell_type": "code",
   "execution_count": 6,
   "id": "a174aa18",
   "metadata": {
    "ExecuteTime": {
     "end_time": "2023-01-15T13:25:13.320412Z",
     "start_time": "2023-01-15T13:25:12.867414Z"
    }
   },
   "outputs": [],
   "source": [
    "# Read the json file\n",
    "with open(annotation_file, 'r') as ann_file:\n",
    "    annotations = json.load(ann_file)\n",
    "\n",
    "# List to maintain the index of captions and image name paths\n",
    "all_captions = []\n",
    "all_img_name_vector = []\n",
    "sentiment = []\n",
    "\n",
    "# Load the senticap annotations\n",
    "with open(\"senticap_dataset.json\", 'r') as f:\n",
    "    senti_annotations = json.load(f)\n",
    "\n",
    "# form a similar file asthat of the validation captions of COCO\n",
    "senti_data = {\"annotations\":[]}\n",
    "for annot in senti_annotations['images']:\n",
    "    img_id = int(annot['filename'].split('_')[-1].split('.')[0])\n",
    "    for sen in annot['sentences']:\n",
    "        senti_data[\"annotations\"].append({\"image_id\":img_id,\"caption\":sen['raw'],\"sentiment\":sen[\"sentiment\"]}) \n",
    "\n",
    "# collect all the uniques image_id\n",
    "res = [v['image_id'] for v in senti_data['annotations']]\n",
    "res = set(res)\n",
    "\n",
    "# iterate on the annotations\n",
    "for entry in senti_data['annotations']:\n",
    "    caption = '<start> ' + entry['caption'] + ' <end>'\n",
    "    all_captions.append(caption)\n",
    "    img_id = entry['image_id']\n",
    "    full_coco_image_path = PATH + 'COCO_val2014_' + '%012d.jpg' % (img_id)\n",
    "    senti = entry['sentiment']\n",
    "    if senti == 0:\n",
    "        senti = -1\n",
    "    all_img_name_vector.append([full_coco_image_path,senti])\n",
    "    \n",
    "# iterate on the annotations of COCO calidation captions\n",
    "for annot in annotations['annotations']:\n",
    "    image_id = annot['image_id']\n",
    "    if image_id in res:\n",
    "        caption = '<start> ' + annot['caption'] + ' <end>'\n",
    "        full_coco_image_path = PATH + 'COCO_val2014_' + '%012d.jpg' % (image_id)\n",
    "        all_img_name_vector.append([full_coco_image_path,0])\n",
    "        all_captions.append(caption)\n",
    "        \n",
    "\n",
    "# shuffle the arrays to avoid grouping of different captions with same images\n",
    "train_captions, img_name_vector = shuffle(all_captions,\n",
    "                                          all_img_name_vector,\n",
    "                                          random_state=1)\n",
    "\n",
    "# Select the first 20000 captions from the shuffled set out of 20002\n",
    "num_examples = 20000\n",
    "train_captions = train_captions[:num_examples]\n",
    "img_name_vector = img_name_vector[:num_examples]"
   ]
  },
  {
   "cell_type": "code",
   "execution_count": 8,
   "id": "dca97549",
   "metadata": {
    "ExecuteTime": {
     "end_time": "2023-01-15T13:25:45.602585Z",
     "start_time": "2023-01-15T13:25:45.580665Z"
    }
   },
   "outputs": [
    {
     "data": {
      "text/plain": [
       "(20002,)"
      ]
     },
     "execution_count": 8,
     "metadata": {},
     "output_type": "execute_result"
    }
   ],
   "source": [
    "np.shape(all_captions)"
   ]
  },
  {
   "cell_type": "code",
   "execution_count": 7,
   "id": "12e68e1f",
   "metadata": {
    "ExecuteTime": {
     "end_time": "2023-01-15T11:02:21.034136Z",
     "start_time": "2023-01-15T11:02:21.017918Z"
    }
   },
   "outputs": [],
   "source": [
    "def load_image(image_path):\n",
    "    img = tf.io.read_file(image_path)\n",
    "    img = tf.image.decode_jpeg(img, channels=3)\n",
    "    # inception v3 requires all the images in a 299*299 pixel format\n",
    "    img = tf.image.resize(img, (299, 299))\n",
    "    #using the preprocess_input function of the inception_v3 \n",
    "    img = tf.keras.applications.inception_v3.preprocess_input(img)\n",
    "    return img, image_path"
   ]
  },
  {
   "cell_type": "code",
   "execution_count": 8,
   "id": "404eeabe",
   "metadata": {
    "ExecuteTime": {
     "end_time": "2023-01-15T11:02:23.100020Z",
     "start_time": "2023-01-15T11:02:21.035139Z"
    }
   },
   "outputs": [],
   "source": [
    "# we can use the pretrained weights of the imagenet model to train on the COCO dataset\n",
    "# we use include_top = False to extract the second last layer instead of last softmax layer\n",
    "image_model = tf.keras.applications.InceptionV3(include_top=False,\n",
    "                                                weights='imagenet')\n",
    "# this gets the second last vector\n",
    "new_input = image_model.input\n",
    "hidden_layer = image_model.layers[-1].output\n",
    "\n",
    "image_features_extract_model = tf.keras.Model(new_input, hidden_layer)"
   ]
  },
  {
   "cell_type": "code",
   "execution_count": 9,
   "id": "4380f81c",
   "metadata": {
    "ExecuteTime": {
     "end_time": "2023-01-15T11:02:23.116582Z",
     "start_time": "2023-01-15T11:02:23.100957Z"
    }
   },
   "outputs": [],
   "source": [
    "# img_name_vector has a file path and sentiment association\n",
    "sentiment = img_name_vector\n",
    "# remove sentiment after creating a copy\n",
    "img_name_vector = [x[0] for x in img_name_vector]"
   ]
  },
  {
   "cell_type": "code",
   "execution_count": 10,
   "id": "f3fd2e2d",
   "metadata": {
    "ExecuteTime": {
     "end_time": "2023-01-15T11:02:47.814182Z",
     "start_time": "2023-01-15T11:02:23.117811Z"
    },
    "code_folding": []
   },
   "outputs": [
    {
     "name": "stderr",
     "output_type": "stream",
     "text": [
      "100%|████████████████████████████████████████████████████████████████████████████████| 248/248 [00:24<00:00, 10.06it/s]\n"
     ]
    }
   ],
   "source": [
    "# Get unique images\n",
    "\n",
    "encode_train = sorted(set(img_name_vector))\n",
    "\n",
    "# Feel free to change batch_size according to your system configuration\n",
    "image_dataset = tf.data.Dataset.from_tensor_slices(encode_train)\n",
    "# parallel execution to convert each image Inceptionv3 compatible format\n",
    "image_dataset = image_dataset.map(\n",
    "  load_image, num_parallel_calls=tf.data.experimental.AUTOTUNE).batch(9)\n",
    "\n",
    "\n",
    "for img, path in tqdm(image_dataset):\n",
    "    # We call the model function to get the vector of shape 81x2048 \n",
    "    batch_features = image_features_extract_model(img)\n",
    "  \n",
    "    batch_features = tf.reshape(batch_features,\n",
    "                              (batch_features.shape[0], -1, batch_features.shape[3]))\n",
    "\n",
    "    for bf, p in zip(batch_features, path):\n",
    "        # save the vectors as numpy files with the .npy extension by default  \n",
    "        path_of_feature = p.numpy().decode(\"utf-8\")\n",
    "        np.save(path_of_feature, bf.numpy())"
   ]
  },
  {
   "cell_type": "code",
   "execution_count": 11,
   "id": "0f90bcee",
   "metadata": {
    "ExecuteTime": {
     "end_time": "2023-01-15T11:02:47.821356Z",
     "start_time": "2023-01-15T11:02:47.814182Z"
    }
   },
   "outputs": [],
   "source": [
    "# The maximum size of captions to take the padding limit\n",
    "\n",
    "def calc_max_length(tensor):\n",
    "    return max(len(t) for t in tensor)"
   ]
  },
  {
   "cell_type": "code",
   "execution_count": 12,
   "id": "f49aab98",
   "metadata": {
    "ExecuteTime": {
     "end_time": "2023-01-15T11:02:48.200389Z",
     "start_time": "2023-01-15T11:02:47.821356Z"
    }
   },
   "outputs": [],
   "source": [
    "# Choose the top 5000 words from the vocabulary\n",
    "top_k = 5000\n",
    "# we tokenize the captions to only include top 5000 words, we exclude other infrequent words and replace them with <unk>, we also remove the punctuations \n",
    "tokenizer = tf.keras.preprocessing.text.Tokenizer(num_words=top_k,\n",
    "                                                  oov_token=\"<unk>\",\n",
    "                                                  filters='!\"#$%&()*+.,-/:;=?@[\\]^_`{|}~ ')\n",
    "tokenizer.fit_on_texts(train_captions)\n",
    "#text to sequence expects a sequence of words\n",
    "train_seqs = tokenizer.texts_to_sequences(train_captions)"
   ]
  },
  {
   "cell_type": "code",
   "execution_count": 13,
   "id": "4a5a21fd",
   "metadata": {
    "ExecuteTime": {
     "end_time": "2023-01-15T11:02:48.217091Z",
     "start_time": "2023-01-15T11:02:48.201657Z"
    }
   },
   "outputs": [],
   "source": [
    "# we change <pad> which is default word based on the longest caption with 0\n",
    "tokenizer.word_index['<pad>'] = 0\n",
    "tokenizer.index_word[0] = '<pad>'"
   ]
  },
  {
   "cell_type": "code",
   "execution_count": 14,
   "id": "a66c07bd",
   "metadata": {
    "ExecuteTime": {
     "end_time": "2023-01-15T11:02:48.500408Z",
     "start_time": "2023-01-15T11:02:48.218094Z"
    }
   },
   "outputs": [],
   "source": [
    "# Create the tokenized vectors\n",
    "train_seqs = tokenizer.texts_to_sequences(train_captions)\n"
   ]
  },
  {
   "cell_type": "code",
   "execution_count": 15,
   "id": "f4ff2cf4",
   "metadata": {
    "ExecuteTime": {
     "end_time": "2023-01-15T11:02:48.550575Z",
     "start_time": "2023-01-15T11:02:48.501771Z"
    }
   },
   "outputs": [],
   "source": [
    "# Pad each vector to the max_length of the captions\n",
    "cap_vector = tf.keras.preprocessing.sequence.pad_sequences(train_seqs, padding='post')"
   ]
  },
  {
   "cell_type": "code",
   "execution_count": 16,
   "id": "96e48ec2",
   "metadata": {
    "ExecuteTime": {
     "end_time": "2023-01-15T11:02:48.567058Z",
     "start_time": "2023-01-15T11:02:48.551868Z"
    }
   },
   "outputs": [],
   "source": [
    "# Calculates the max_length, which is used to store the attention weights\n",
    "max_length = calc_max_length(train_seqs)"
   ]
  },
  {
   "cell_type": "code",
   "execution_count": 17,
   "id": "62567b30",
   "metadata": {
    "ExecuteTime": {
     "end_time": "2023-01-15T11:02:48.585751Z",
     "start_time": "2023-01-15T11:02:48.568059Z"
    }
   },
   "outputs": [],
   "source": [
    "# We use the train test split to split 80%-20% data of train itself\n",
    "# here we split the sentiment data to maintain the sequence of pfile path caption and sentiment\n",
    "img_name_train, img_name_val, cap_train, cap_val = train_test_split(sentiment,\n",
    "                                                                    cap_vector,\n",
    "                                                                    test_size=0.2,\n",
    "                                                                    random_state=0)"
   ]
  },
  {
   "cell_type": "code",
   "execution_count": 18,
   "id": "3192ec27",
   "metadata": {
    "ExecuteTime": {
     "end_time": "2023-01-15T11:02:48.601400Z",
     "start_time": "2023-01-15T11:02:48.586751Z"
    }
   },
   "outputs": [],
   "source": [
    "# This batch size should be perfectly divisible to the num of examples that are considered\n",
    "BATCH_SIZE = 100\n",
    "BUFFER_SIZE = 1000\n",
    "\n",
    "# The vector embeddign size for deciding the RNN_GRU decoder \n",
    "embedding_dim = 256\n",
    "\n",
    "# number of GRU units in the cell\n",
    "units = 512\n",
    "\n",
    "# Total number of terms in the vocabulary - 6409 total vocab_size\n",
    "vocab_size = len(tokenizer.word_index) + 1\n",
    "\n",
    "# total 20000 images hence the num_steps will be 200\n",
    "num_steps = len(img_name_train) // BATCH_SIZE\n",
    "# Shape of the vector extracted from InceptionV3 is (64, 2052)\n",
    "# These two variables represent that vector shape\n",
    "features_shape = 2052\n",
    "attention_features_shape = 64"
   ]
  },
  {
   "cell_type": "code",
   "execution_count": 19,
   "id": "1dc5d318",
   "metadata": {
    "ExecuteTime": {
     "end_time": "2023-01-15T11:02:48.617088Z",
     "start_time": "2023-01-15T11:02:48.602400Z"
    }
   },
   "outputs": [],
   "source": [
    "# Load the numpy files each numpy file has a shape of 64x2052\n",
    "def map_func(img_name, cap,senti):\n",
    "    img_tensor = np.load(img_name.decode('utf-8')+'.npy')\n",
    "    # after loading the numpy files we make a similar vector with 4 more dimensions at axis 1\n",
    "    comb_feats = np.zeros([img_tensor.shape[0],img_tensor.shape[1]+4], dtype=np.float32)\n",
    "    comb_feats[:,:2048] = img_tensor\n",
    "    # adding an encoding vale which corresponds to sentiments\n",
    "    #Positive sentiment\n",
    "    if senti == 1:\n",
    "        result = [1,0,0,1]\n",
    "    # negative sentiment\n",
    "    elif senti == -1:\n",
    "        result = [0,0,1,2]\n",
    "    # neutral sentiment\n",
    "    else:\n",
    "        result = [0,1,0,0]\n",
    "    comb_feats[:,2048:] = result\n",
    "    # combine and return the new image vector of shape 64x2052\n",
    "    return comb_feats,cap,senti"
   ]
  },
  {
   "cell_type": "code",
   "execution_count": 20,
   "id": "24bb1d0b",
   "metadata": {
    "ExecuteTime": {
     "end_time": "2023-01-15T11:02:48.698911Z",
     "start_time": "2023-01-15T11:02:48.618090Z"
    }
   },
   "outputs": [],
   "source": [
    "dataset = tf.data.Dataset.from_tensor_slices(([x[0] for x in img_name_train], cap_train,[x[1] for x in img_name_train]))\n",
    "\n",
    "# Use map to load the numpy files in parallel\n",
    "dataset = dataset.map(lambda item1, item2, item3: tf.numpy_function(\n",
    "          map_func, [item1,item2,item3], [tf.float32, tf.int32,tf.int32]),\n",
    "          num_parallel_calls=tf.data.experimental.AUTOTUNE)\n",
    "\n",
    "# We sorted the encode train to store the numpy files hence we shuffle the dataset pair back according to batch size and form batches\n",
    "dataset = dataset.shuffle(BUFFER_SIZE).batch(BATCH_SIZE)\n",
    "dataset = dataset.prefetch(buffer_size=tf.data.experimental.AUTOTUNE)"
   ]
  },
  {
   "cell_type": "code",
   "execution_count": 21,
   "id": "94f20f56",
   "metadata": {
    "ExecuteTime": {
     "end_time": "2023-01-15T11:02:48.706034Z",
     "start_time": "2023-01-15T11:02:48.699913Z"
    }
   },
   "outputs": [],
   "source": [
    "class BahdanauAttention(tf.keras.Model):\n",
    "  def __init__(self, units):\n",
    "    super(BahdanauAttention, self).__init__()\n",
    "    self.W1 = tf.keras.layers.Dense(units)\n",
    "    self.W2 = tf.keras.layers.Dense(units)\n",
    "    self.V = tf.keras.layers.Dense(1)\n",
    "\n",
    "  def call(self, features, hidden):\n",
    "    # hidden_with_time_axis shape is batch_size, 1, hidden_size\n",
    "    hidden_with_time_axis = tf.expand_dims(hidden, 1)\n",
    "\n",
    "    # score shape is batch_size, 64, hidden_size\n",
    "    score = tf.nn.tanh(self.W1(features) + self.W2(hidden_with_time_axis))\n",
    "\n",
    "    # score shape is batch_size, 64, hidden_size\n",
    "    attention_weights = tf.nn.softmax(self.V(score), axis=1)\n",
    "\n",
    "    # context_vector is batch_size, hidden_size\n",
    "    context_vector = attention_weights * features\n",
    "    context_vector = tf.reduce_sum(context_vector, axis=1)\n",
    "\n",
    "    return context_vector, attention_weights"
   ]
  },
  {
   "cell_type": "code",
   "execution_count": 22,
   "id": "f8326a76",
   "metadata": {
    "ExecuteTime": {
     "end_time": "2023-01-15T11:02:48.720567Z",
     "start_time": "2023-01-15T11:02:48.706034Z"
    }
   },
   "outputs": [],
   "source": [
    "class CNN_Encoder(tf.keras.Model):\n",
    "    # Since you have already extracted the features and dumped it using pickle\n",
    "    # This encoder passes those features through a Fully connected layer\n",
    "    def __init__(self, embedding_dim):\n",
    "        super(CNN_Encoder, self).__init__()\n",
    "        # input shape is batchx64x2052 while output is batchx64x256(embedding dimensions) with a dense layer\n",
    "        self.fc = tf.keras.layers.Dense(embedding_dim)\n",
    "\n",
    "    def call(self, x):\n",
    "       # the input to the dense layer will be the image tensor\n",
    "        x = self.fc(x)\n",
    "        # relu activation over the fully connected maintains the shape\n",
    "        x = tf.nn.relu(x)\n",
    "        return x"
   ]
  },
  {
   "cell_type": "code",
   "execution_count": 23,
   "id": "f5b56fbb",
   "metadata": {
    "ExecuteTime": {
     "end_time": "2023-01-15T11:02:48.735732Z",
     "start_time": "2023-01-15T11:02:48.720567Z"
    }
   },
   "outputs": [],
   "source": [
    "class RNN_Decoder(tf.keras.Model):\n",
    "  def __init__(self, embedding_dim, units, vocab_size):\n",
    "    super(RNN_Decoder, self).__init__()\n",
    "    # units in the RNN GRU cell = 512\n",
    "    self.units = units\n",
    "\n",
    "    # define Embedding layer with the vocab_size and embedding dimension 6409 and 256\n",
    "    self.embedding = tf.keras.layers.Embedding(vocab_size, embedding_dim)\n",
    "    # define GRU cell with 256 units with return sequences set to true to give successive outputs to next unit\n",
    "    self.gru = tf.keras.layers.GRU(self.units,\n",
    "                                   return_sequences=True,\n",
    "                                   return_state=True,\n",
    "                                   recurrent_initializer='glorot_uniform')\n",
    "    # dense layers with output dim 512\n",
    "    self.fc1 = tf.keras.layers.Dense(self.units)\n",
    "    # dense layer with 6409 dimensions to get back the token numbers activated\n",
    "    self.fc2 = tf.keras.layers.Dense(vocab_size)\n",
    "\n",
    "    # Call to define Attention object\n",
    "    self.attention = BahdanauAttention(self.units)\n",
    "\n",
    "  def call(self, x, features, hidden):\n",
    "    # defining attention as a separate model\n",
    "    context_vector, attention_weights = self.attention(features, hidden)\n",
    "\n",
    "    # the shape will be batch_sizex1x256\n",
    "    x = self.embedding(x)\n",
    "\n",
    "    # shape will be batch_sizex1x(256+hiddensize)\n",
    "    x = tf.concat([tf.expand_dims(context_vector, 1), x], axis=-1)\n",
    "\n",
    "    #pass the concatenated output to GRU cell\n",
    "    output, state = self.gru(x)\n",
    "\n",
    "    # shape will be batch_size x max_length x hidden_size\n",
    "    x = self.fc1(output)\n",
    "\n",
    "    # collapsing 1st dimension\n",
    "    x = tf.reshape(x, (-1, x.shape[2]))\n",
    "\n",
    "    # output shape batch_size * max_length, vocab\n",
    "    x = self.fc2(x)\n",
    "\n",
    "    return x, state, attention_weights\n",
    "\n",
    "  def reset_state(self, batch_size):\n",
    "    return tf.zeros((batch_size, self.units))"
   ]
  },
  {
   "cell_type": "code",
   "execution_count": 24,
   "id": "7580cf1f",
   "metadata": {
    "ExecuteTime": {
     "end_time": "2023-01-15T11:02:48.752402Z",
     "start_time": "2023-01-15T11:02:48.737147Z"
    }
   },
   "outputs": [],
   "source": [
    "# call to encoder and decoder classes\n",
    "encoder = CNN_Encoder(embedding_dim)\n",
    "decoder = RNN_Decoder(embedding_dim, units, vocab_size)"
   ]
  },
  {
   "cell_type": "code",
   "execution_count": 25,
   "id": "154e55b6",
   "metadata": {
    "ExecuteTime": {
     "end_time": "2023-01-15T11:02:48.768065Z",
     "start_time": "2023-01-15T11:02:48.753402Z"
    }
   },
   "outputs": [],
   "source": [
    "# set optimizer\n",
    "optimizer = tf.keras.optimizers.Adam()\n",
    "loss_object = tf.keras.losses.SparseCategoricalCrossentropy(\n",
    "    from_logits=True, reduction='none')\n",
    "\n",
    "def loss_function(real, pred):\n",
    "  mask = tf.math.logical_not(tf.math.equal(real, 0))\n",
    "  loss_ = loss_object(real, pred)\n",
    "\n",
    "  mask = tf.cast(mask, dtype=loss_.dtype)\n",
    "  loss_ *= mask\n",
    "\n",
    "  return tf.reduce_mean(loss_)"
   ]
  },
  {
   "cell_type": "code",
   "execution_count": 26,
   "id": "bce28eb6",
   "metadata": {
    "ExecuteTime": {
     "end_time": "2023-01-15T11:02:48.780317Z",
     "start_time": "2023-01-15T11:02:48.769064Z"
    }
   },
   "outputs": [],
   "source": [
    "# set up of checkpoint and checkpoint manager\n",
    "\n",
    "checkpoint_path = \"./checkpoints/sentiment\"\n",
    "ckpt = tf.train.Checkpoint(encoder=encoder,\n",
    "                           decoder=decoder,\n",
    "                           optimizer = optimizer)\n",
    "ckpt_manager = tf.train.CheckpointManager(ckpt, checkpoint_path, max_to_keep=5)\n"
   ]
  },
  {
   "cell_type": "code",
   "execution_count": 27,
   "id": "1c97a934",
   "metadata": {
    "ExecuteTime": {
     "end_time": "2023-01-15T11:02:48.787542Z",
     "start_time": "2023-01-15T11:02:48.780317Z"
    }
   },
   "outputs": [],
   "source": [
    "start_epoch = 0\n",
    "if ckpt_manager.latest_checkpoint:\n",
    "  start_epoch = int(ckpt_manager.latest_checkpoint.split('-')[-1])\n"
   ]
  },
  {
   "cell_type": "code",
   "execution_count": 28,
   "id": "378b2274",
   "metadata": {
    "ExecuteTime": {
     "end_time": "2023-01-15T11:02:48.803401Z",
     "start_time": "2023-01-15T11:02:48.787542Z"
    }
   },
   "outputs": [],
   "source": [
    "@tf.function\n",
    "def train_step(img_tensor, target):\n",
    "  loss = 0\n",
    "  # set initial zeros with start tokens of 100 or batch_size\n",
    "  hidden = decoder.reset_state(batch_size=target.shape[0])\n",
    "\n",
    "  # Every time the dec_input will have the previous word predicted going as input\n",
    "  dec_input = tf.expand_dims([tokenizer.word_index['<start>']] * BATCH_SIZE, 1)\n",
    " \n",
    "  with tf.GradientTape() as tape:\n",
    "      features = encoder(img_tensor)\n",
    "\n",
    "      # pass the image tensor through the encoder for embedding dimension based output\n",
    "      for i in range(1, target.shape[1]):\n",
    "          # passing the features through the decoder\n",
    "          predictions, hidden, _ = decoder(dec_input, features, hidden)\n",
    "\n",
    "          # calculate loss based on the current word predicted\n",
    "          loss += loss_function(target[:, i], predictions)\n",
    "\n",
    "          # using the predicted word as next unit input\n",
    "          dec_input = tf.expand_dims(target[:, i], 1)\n",
    "\n",
    "  # calculate total loss based on number of words in caption\n",
    "  total_loss = (loss / int(target.shape[1]))\n",
    "\n",
    "  # get all trainable variables that can be optimized with back prop\n",
    "  trainable_variables = encoder.trainable_variables + decoder.trainable_variables\n",
    "\n",
    "  gradients = tape.gradient(loss, trainable_variables)\n",
    "  # apply weight optimization on trainable variables\n",
    "  optimizer.apply_gradients(zip(gradients, trainable_variables))\n",
    "\n",
    "  return loss, total_loss\n"
   ]
  },
  {
   "cell_type": "code",
   "execution_count": 29,
   "id": "0ab539ac",
   "metadata": {
    "ExecuteTime": {
     "end_time": "2023-01-15T11:05:13.847715Z",
     "start_time": "2023-01-15T11:02:48.804012Z"
    }
   },
   "outputs": [
    {
     "name": "stdout",
     "output_type": "stream",
     "text": [
      "Epoch 17 Batch 0 Loss 1.1102\n",
      "Epoch 17 Batch 100 Loss 0.6262\n",
      "Epoch 17 Loss 0.655768\n",
      "Time taken for 1 epoch 124.89194869995117 sec\n",
      "\n",
      "Epoch 18 Batch 0 Loss 0.5648\n"
     ]
    },
    {
     "ename": "KeyboardInterrupt",
     "evalue": "",
     "output_type": "error",
     "traceback": [
      "\u001b[1;31m---------------------------------------------------------------------------\u001b[0m",
      "\u001b[1;31mKeyboardInterrupt\u001b[0m                         Traceback (most recent call last)",
      "Input \u001b[1;32mIn [29]\u001b[0m, in \u001b[0;36m<cell line: 3>\u001b[1;34m()\u001b[0m\n\u001b[0;32m      6\u001b[0m \u001b[38;5;66;03m# dataset will have 3 parameters tensor and caption,sentiment and batches\u001b[39;00m\n\u001b[0;32m      7\u001b[0m \u001b[38;5;28;01mfor\u001b[39;00m (batch, (img_tensor, target,senti)) \u001b[38;5;129;01min\u001b[39;00m \u001b[38;5;28menumerate\u001b[39m(dataset):\n\u001b[1;32m----> 8\u001b[0m     batch_loss, t_loss \u001b[38;5;241m=\u001b[39m \u001b[43mtrain_step\u001b[49m\u001b[43m(\u001b[49m\u001b[43mimg_tensor\u001b[49m\u001b[43m,\u001b[49m\u001b[43m \u001b[49m\u001b[43mtarget\u001b[49m\u001b[43m)\u001b[49m\n\u001b[0;32m      9\u001b[0m     total_loss \u001b[38;5;241m+\u001b[39m\u001b[38;5;241m=\u001b[39m t_loss\n\u001b[0;32m     11\u001b[0m     \u001b[38;5;28;01mif\u001b[39;00m batch \u001b[38;5;241m%\u001b[39m \u001b[38;5;241m100\u001b[39m \u001b[38;5;241m==\u001b[39m \u001b[38;5;241m0\u001b[39m:\n",
      "File \u001b[1;32mC:\\Anaconda3\\envs\\SentiCap\\lib\\site-packages\\tensorflow\\python\\util\\traceback_utils.py:150\u001b[0m, in \u001b[0;36mfilter_traceback.<locals>.error_handler\u001b[1;34m(*args, **kwargs)\u001b[0m\n\u001b[0;32m    148\u001b[0m filtered_tb \u001b[38;5;241m=\u001b[39m \u001b[38;5;28;01mNone\u001b[39;00m\n\u001b[0;32m    149\u001b[0m \u001b[38;5;28;01mtry\u001b[39;00m:\n\u001b[1;32m--> 150\u001b[0m   \u001b[38;5;28;01mreturn\u001b[39;00m \u001b[43mfn\u001b[49m\u001b[43m(\u001b[49m\u001b[38;5;241;43m*\u001b[39;49m\u001b[43margs\u001b[49m\u001b[43m,\u001b[49m\u001b[43m \u001b[49m\u001b[38;5;241;43m*\u001b[39;49m\u001b[38;5;241;43m*\u001b[39;49m\u001b[43mkwargs\u001b[49m\u001b[43m)\u001b[49m\n\u001b[0;32m    151\u001b[0m \u001b[38;5;28;01mexcept\u001b[39;00m \u001b[38;5;167;01mException\u001b[39;00m \u001b[38;5;28;01mas\u001b[39;00m e:\n\u001b[0;32m    152\u001b[0m   filtered_tb \u001b[38;5;241m=\u001b[39m _process_traceback_frames(e\u001b[38;5;241m.\u001b[39m__traceback__)\n",
      "File \u001b[1;32mC:\\Anaconda3\\envs\\SentiCap\\lib\\site-packages\\tensorflow\\python\\eager\\def_function.py:915\u001b[0m, in \u001b[0;36mFunction.__call__\u001b[1;34m(self, *args, **kwds)\u001b[0m\n\u001b[0;32m    912\u001b[0m compiler \u001b[38;5;241m=\u001b[39m \u001b[38;5;124m\"\u001b[39m\u001b[38;5;124mxla\u001b[39m\u001b[38;5;124m\"\u001b[39m \u001b[38;5;28;01mif\u001b[39;00m \u001b[38;5;28mself\u001b[39m\u001b[38;5;241m.\u001b[39m_jit_compile \u001b[38;5;28;01melse\u001b[39;00m \u001b[38;5;124m\"\u001b[39m\u001b[38;5;124mnonXla\u001b[39m\u001b[38;5;124m\"\u001b[39m\n\u001b[0;32m    914\u001b[0m \u001b[38;5;28;01mwith\u001b[39;00m OptionalXlaContext(\u001b[38;5;28mself\u001b[39m\u001b[38;5;241m.\u001b[39m_jit_compile):\n\u001b[1;32m--> 915\u001b[0m   result \u001b[38;5;241m=\u001b[39m \u001b[38;5;28;43mself\u001b[39;49m\u001b[38;5;241;43m.\u001b[39;49m\u001b[43m_call\u001b[49m\u001b[43m(\u001b[49m\u001b[38;5;241;43m*\u001b[39;49m\u001b[43margs\u001b[49m\u001b[43m,\u001b[49m\u001b[43m \u001b[49m\u001b[38;5;241;43m*\u001b[39;49m\u001b[38;5;241;43m*\u001b[39;49m\u001b[43mkwds\u001b[49m\u001b[43m)\u001b[49m\n\u001b[0;32m    917\u001b[0m new_tracing_count \u001b[38;5;241m=\u001b[39m \u001b[38;5;28mself\u001b[39m\u001b[38;5;241m.\u001b[39mexperimental_get_tracing_count()\n\u001b[0;32m    918\u001b[0m without_tracing \u001b[38;5;241m=\u001b[39m (tracing_count \u001b[38;5;241m==\u001b[39m new_tracing_count)\n",
      "File \u001b[1;32mC:\\Anaconda3\\envs\\SentiCap\\lib\\site-packages\\tensorflow\\python\\eager\\def_function.py:947\u001b[0m, in \u001b[0;36mFunction._call\u001b[1;34m(self, *args, **kwds)\u001b[0m\n\u001b[0;32m    944\u001b[0m   \u001b[38;5;28mself\u001b[39m\u001b[38;5;241m.\u001b[39m_lock\u001b[38;5;241m.\u001b[39mrelease()\n\u001b[0;32m    945\u001b[0m   \u001b[38;5;66;03m# In this case we have created variables on the first call, so we run the\u001b[39;00m\n\u001b[0;32m    946\u001b[0m   \u001b[38;5;66;03m# defunned version which is guaranteed to never create variables.\u001b[39;00m\n\u001b[1;32m--> 947\u001b[0m   \u001b[38;5;28;01mreturn\u001b[39;00m \u001b[38;5;28;43mself\u001b[39;49m\u001b[38;5;241;43m.\u001b[39;49m\u001b[43m_stateless_fn\u001b[49m\u001b[43m(\u001b[49m\u001b[38;5;241;43m*\u001b[39;49m\u001b[43margs\u001b[49m\u001b[43m,\u001b[49m\u001b[43m \u001b[49m\u001b[38;5;241;43m*\u001b[39;49m\u001b[38;5;241;43m*\u001b[39;49m\u001b[43mkwds\u001b[49m\u001b[43m)\u001b[49m  \u001b[38;5;66;03m# pylint: disable=not-callable\u001b[39;00m\n\u001b[0;32m    948\u001b[0m \u001b[38;5;28;01melif\u001b[39;00m \u001b[38;5;28mself\u001b[39m\u001b[38;5;241m.\u001b[39m_stateful_fn \u001b[38;5;129;01mis\u001b[39;00m \u001b[38;5;129;01mnot\u001b[39;00m \u001b[38;5;28;01mNone\u001b[39;00m:\n\u001b[0;32m    949\u001b[0m   \u001b[38;5;66;03m# Release the lock early so that multiple threads can perform the call\u001b[39;00m\n\u001b[0;32m    950\u001b[0m   \u001b[38;5;66;03m# in parallel.\u001b[39;00m\n\u001b[0;32m    951\u001b[0m   \u001b[38;5;28mself\u001b[39m\u001b[38;5;241m.\u001b[39m_lock\u001b[38;5;241m.\u001b[39mrelease()\n",
      "File \u001b[1;32mC:\\Anaconda3\\envs\\SentiCap\\lib\\site-packages\\tensorflow\\python\\eager\\function.py:2496\u001b[0m, in \u001b[0;36mFunction.__call__\u001b[1;34m(self, *args, **kwargs)\u001b[0m\n\u001b[0;32m   2493\u001b[0m \u001b[38;5;28;01mwith\u001b[39;00m \u001b[38;5;28mself\u001b[39m\u001b[38;5;241m.\u001b[39m_lock:\n\u001b[0;32m   2494\u001b[0m   (graph_function,\n\u001b[0;32m   2495\u001b[0m    filtered_flat_args) \u001b[38;5;241m=\u001b[39m \u001b[38;5;28mself\u001b[39m\u001b[38;5;241m.\u001b[39m_maybe_define_function(args, kwargs)\n\u001b[1;32m-> 2496\u001b[0m \u001b[38;5;28;01mreturn\u001b[39;00m \u001b[43mgraph_function\u001b[49m\u001b[38;5;241;43m.\u001b[39;49m\u001b[43m_call_flat\u001b[49m\u001b[43m(\u001b[49m\n\u001b[0;32m   2497\u001b[0m \u001b[43m    \u001b[49m\u001b[43mfiltered_flat_args\u001b[49m\u001b[43m,\u001b[49m\u001b[43m \u001b[49m\u001b[43mcaptured_inputs\u001b[49m\u001b[38;5;241;43m=\u001b[39;49m\u001b[43mgraph_function\u001b[49m\u001b[38;5;241;43m.\u001b[39;49m\u001b[43mcaptured_inputs\u001b[49m\u001b[43m)\u001b[49m\n",
      "File \u001b[1;32mC:\\Anaconda3\\envs\\SentiCap\\lib\\site-packages\\tensorflow\\python\\eager\\function.py:1862\u001b[0m, in \u001b[0;36mConcreteFunction._call_flat\u001b[1;34m(self, args, captured_inputs, cancellation_manager)\u001b[0m\n\u001b[0;32m   1858\u001b[0m possible_gradient_type \u001b[38;5;241m=\u001b[39m gradients_util\u001b[38;5;241m.\u001b[39mPossibleTapeGradientTypes(args)\n\u001b[0;32m   1859\u001b[0m \u001b[38;5;28;01mif\u001b[39;00m (possible_gradient_type \u001b[38;5;241m==\u001b[39m gradients_util\u001b[38;5;241m.\u001b[39mPOSSIBLE_GRADIENT_TYPES_NONE\n\u001b[0;32m   1860\u001b[0m     \u001b[38;5;129;01mand\u001b[39;00m executing_eagerly):\n\u001b[0;32m   1861\u001b[0m   \u001b[38;5;66;03m# No tape is watching; skip to running the function.\u001b[39;00m\n\u001b[1;32m-> 1862\u001b[0m   \u001b[38;5;28;01mreturn\u001b[39;00m \u001b[38;5;28mself\u001b[39m\u001b[38;5;241m.\u001b[39m_build_call_outputs(\u001b[38;5;28;43mself\u001b[39;49m\u001b[38;5;241;43m.\u001b[39;49m\u001b[43m_inference_function\u001b[49m\u001b[38;5;241;43m.\u001b[39;49m\u001b[43mcall\u001b[49m\u001b[43m(\u001b[49m\n\u001b[0;32m   1863\u001b[0m \u001b[43m      \u001b[49m\u001b[43mctx\u001b[49m\u001b[43m,\u001b[49m\u001b[43m \u001b[49m\u001b[43margs\u001b[49m\u001b[43m,\u001b[49m\u001b[43m \u001b[49m\u001b[43mcancellation_manager\u001b[49m\u001b[38;5;241;43m=\u001b[39;49m\u001b[43mcancellation_manager\u001b[49m\u001b[43m)\u001b[49m)\n\u001b[0;32m   1864\u001b[0m forward_backward \u001b[38;5;241m=\u001b[39m \u001b[38;5;28mself\u001b[39m\u001b[38;5;241m.\u001b[39m_select_forward_and_backward_functions(\n\u001b[0;32m   1865\u001b[0m     args,\n\u001b[0;32m   1866\u001b[0m     possible_gradient_type,\n\u001b[0;32m   1867\u001b[0m     executing_eagerly)\n\u001b[0;32m   1868\u001b[0m forward_function, args_with_tangents \u001b[38;5;241m=\u001b[39m forward_backward\u001b[38;5;241m.\u001b[39mforward()\n",
      "File \u001b[1;32mC:\\Anaconda3\\envs\\SentiCap\\lib\\site-packages\\tensorflow\\python\\eager\\function.py:499\u001b[0m, in \u001b[0;36m_EagerDefinedFunction.call\u001b[1;34m(self, ctx, args, cancellation_manager)\u001b[0m\n\u001b[0;32m    497\u001b[0m \u001b[38;5;28;01mwith\u001b[39;00m _InterpolateFunctionError(\u001b[38;5;28mself\u001b[39m):\n\u001b[0;32m    498\u001b[0m   \u001b[38;5;28;01mif\u001b[39;00m cancellation_manager \u001b[38;5;129;01mis\u001b[39;00m \u001b[38;5;28;01mNone\u001b[39;00m:\n\u001b[1;32m--> 499\u001b[0m     outputs \u001b[38;5;241m=\u001b[39m \u001b[43mexecute\u001b[49m\u001b[38;5;241;43m.\u001b[39;49m\u001b[43mexecute\u001b[49m\u001b[43m(\u001b[49m\n\u001b[0;32m    500\u001b[0m \u001b[43m        \u001b[49m\u001b[38;5;28;43mstr\u001b[39;49m\u001b[43m(\u001b[49m\u001b[38;5;28;43mself\u001b[39;49m\u001b[38;5;241;43m.\u001b[39;49m\u001b[43msignature\u001b[49m\u001b[38;5;241;43m.\u001b[39;49m\u001b[43mname\u001b[49m\u001b[43m)\u001b[49m\u001b[43m,\u001b[49m\n\u001b[0;32m    501\u001b[0m \u001b[43m        \u001b[49m\u001b[43mnum_outputs\u001b[49m\u001b[38;5;241;43m=\u001b[39;49m\u001b[38;5;28;43mself\u001b[39;49m\u001b[38;5;241;43m.\u001b[39;49m\u001b[43m_num_outputs\u001b[49m\u001b[43m,\u001b[49m\n\u001b[0;32m    502\u001b[0m \u001b[43m        \u001b[49m\u001b[43minputs\u001b[49m\u001b[38;5;241;43m=\u001b[39;49m\u001b[43margs\u001b[49m\u001b[43m,\u001b[49m\n\u001b[0;32m    503\u001b[0m \u001b[43m        \u001b[49m\u001b[43mattrs\u001b[49m\u001b[38;5;241;43m=\u001b[39;49m\u001b[43mattrs\u001b[49m\u001b[43m,\u001b[49m\n\u001b[0;32m    504\u001b[0m \u001b[43m        \u001b[49m\u001b[43mctx\u001b[49m\u001b[38;5;241;43m=\u001b[39;49m\u001b[43mctx\u001b[49m\u001b[43m)\u001b[49m\n\u001b[0;32m    505\u001b[0m   \u001b[38;5;28;01melse\u001b[39;00m:\n\u001b[0;32m    506\u001b[0m     outputs \u001b[38;5;241m=\u001b[39m execute\u001b[38;5;241m.\u001b[39mexecute_with_cancellation(\n\u001b[0;32m    507\u001b[0m         \u001b[38;5;28mstr\u001b[39m(\u001b[38;5;28mself\u001b[39m\u001b[38;5;241m.\u001b[39msignature\u001b[38;5;241m.\u001b[39mname),\n\u001b[0;32m    508\u001b[0m         num_outputs\u001b[38;5;241m=\u001b[39m\u001b[38;5;28mself\u001b[39m\u001b[38;5;241m.\u001b[39m_num_outputs,\n\u001b[1;32m   (...)\u001b[0m\n\u001b[0;32m    511\u001b[0m         ctx\u001b[38;5;241m=\u001b[39mctx,\n\u001b[0;32m    512\u001b[0m         cancellation_manager\u001b[38;5;241m=\u001b[39mcancellation_manager)\n",
      "File \u001b[1;32mC:\\Anaconda3\\envs\\SentiCap\\lib\\site-packages\\tensorflow\\python\\eager\\execute.py:54\u001b[0m, in \u001b[0;36mquick_execute\u001b[1;34m(op_name, num_outputs, inputs, attrs, ctx, name)\u001b[0m\n\u001b[0;32m     52\u001b[0m \u001b[38;5;28;01mtry\u001b[39;00m:\n\u001b[0;32m     53\u001b[0m   ctx\u001b[38;5;241m.\u001b[39mensure_initialized()\n\u001b[1;32m---> 54\u001b[0m   tensors \u001b[38;5;241m=\u001b[39m \u001b[43mpywrap_tfe\u001b[49m\u001b[38;5;241;43m.\u001b[39;49m\u001b[43mTFE_Py_Execute\u001b[49m\u001b[43m(\u001b[49m\u001b[43mctx\u001b[49m\u001b[38;5;241;43m.\u001b[39;49m\u001b[43m_handle\u001b[49m\u001b[43m,\u001b[49m\u001b[43m \u001b[49m\u001b[43mdevice_name\u001b[49m\u001b[43m,\u001b[49m\u001b[43m \u001b[49m\u001b[43mop_name\u001b[49m\u001b[43m,\u001b[49m\n\u001b[0;32m     55\u001b[0m \u001b[43m                                      \u001b[49m\u001b[43minputs\u001b[49m\u001b[43m,\u001b[49m\u001b[43m \u001b[49m\u001b[43mattrs\u001b[49m\u001b[43m,\u001b[49m\u001b[43m \u001b[49m\u001b[43mnum_outputs\u001b[49m\u001b[43m)\u001b[49m\n\u001b[0;32m     56\u001b[0m \u001b[38;5;28;01mexcept\u001b[39;00m core\u001b[38;5;241m.\u001b[39m_NotOkStatusException \u001b[38;5;28;01mas\u001b[39;00m e:\n\u001b[0;32m     57\u001b[0m   \u001b[38;5;28;01mif\u001b[39;00m name \u001b[38;5;129;01mis\u001b[39;00m \u001b[38;5;129;01mnot\u001b[39;00m \u001b[38;5;28;01mNone\u001b[39;00m:\n",
      "\u001b[1;31mKeyboardInterrupt\u001b[0m: "
     ]
    }
   ],
   "source": [
    "EPOCHS = 100\n",
    "\n",
    "for epoch in range(start_epoch, EPOCHS):\n",
    "    start = time.time()\n",
    "    total_loss = 0\n",
    "    # dataset will have 3 parameters tensor and caption,sentiment and batches\n",
    "    for (batch, (img_tensor, target,senti)) in enumerate(dataset):\n",
    "        batch_loss, t_loss = train_step(img_tensor, target)\n",
    "        total_loss += t_loss\n",
    "\n",
    "        if batch % 100 == 0:\n",
    "            print ('Epoch {} Batch {} Loss {:.4f}'.format(\n",
    "              epoch + 1, batch, batch_loss.numpy() / int(target.shape[1])))\n",
    "    # storing the epoch end loss value to plot later\n",
    "    if epoch % 5 == 0:\n",
    "      ckpt_manager.save()\n",
    "\n",
    "    print ('Epoch {} Loss {:.6f}'.format(epoch + 1,\n",
    "                                         total_loss/num_steps))\n",
    "    print ('Time taken for 1 epoch {} sec\\n'.format(time.time() - start))"
   ]
  },
  {
   "cell_type": "code",
   "execution_count": null,
   "id": "14b9ba99",
   "metadata": {
    "ExecuteTime": {
     "end_time": "2023-01-15T11:05:13.851445Z",
     "start_time": "2023-01-15T11:05:13.851445Z"
    }
   },
   "outputs": [],
   "source": [
    "def evaluate(image):\n",
    "    # decoder reset state with start tag\n",
    "    hidden = decoder.reset_state(batch_size=1)\n",
    "\n",
    "    # Extract the image to be tested\n",
    "    temp_input = tf.expand_dims(load_image(image[0])[0], 0)\n",
    "    img_tensor_val = image_features_extract_model(temp_input)\n",
    "    img_tensor_val = tf.reshape(img_tensor_val, (img_tensor_val.shape[0], -1, img_tensor_val.shape[3]))\n",
    "    new_img_tensor_val = np.zeros([img_tensor_val.shape[0],img_tensor_val.shape[1],(img_tensor_val.shape[2]+4)],dtype=np.float32)\n",
    "    # Only the first 2048 vectors will be returned\n",
    "    # Give user input to decide the level of sentiment we need from the image\n",
    "    # 0 for neutral, 1 for positive, -1 for negative\n",
    "    new_img_tensor_val[:,:,:2048] = img_tensor_val\n",
    "    if image[1] == 0:\n",
    "        new_img_tensor_val[:,:,2048:] = [0,1,0,0]\n",
    "    elif image[1] == 1:\n",
    "        new_img_tensor_val[:,:,2048:] = [1,0,0,1]\n",
    "    elif image[1] == -1:\n",
    "        new_img_tensor_val[:,:,2048:] = [0,0,1,2]\n",
    "    \n",
    "    # form new image tensor \n",
    "    img_tensor_val = new_img_tensor_val\n",
    "        \n",
    "    # pass it through encoder\n",
    "    features = encoder(img_tensor_val)\n",
    "\n",
    "    # start token by default to all the captions in batch\n",
    "    dec_input = tf.expand_dims([tokenizer.word_index['<start>']], 0)\n",
    "    result = []\n",
    "    \n",
    "    # keep generating the caption till max length\n",
    "    for i in range(max_length):\n",
    "        predictions, hidden, attention_weights = decoder(dec_input, features, hidden)\n",
    "\n",
    "        predicted_id = tf.argmax(predictions[0]).numpy()\n",
    "        result.append(tokenizer.index_word[predicted_id])\n",
    "\n",
    "        if tokenizer.index_word[predicted_id] == '<end>':\n",
    "            return result\n",
    "\n",
    "        dec_input = tf.expand_dims([predicted_id], 0)\n",
    "\n",
    "    return result"
   ]
  },
  {
   "cell_type": "code",
   "execution_count": null,
   "id": "fc739e0a",
   "metadata": {
    "ExecuteTime": {
     "end_time": "2023-01-15T11:05:13.853445Z",
     "start_time": "2023-01-15T11:05:13.853445Z"
    },
    "scrolled": false
   },
   "outputs": [],
   "source": [
    "for i in range(20):\n",
    "    # captions on the validation set\n",
    "    rid = np.random.randint(0, len(img_name_val))\n",
    "    image = img_name_val[rid]\n",
    "    real_caption = ' '.join([tokenizer.index_word[i] for i in cap_val[rid] if i not in [0]])\n",
    "    result = evaluate(image)\n",
    "\n",
    "    print ('Real Caption:', real_caption)\n",
    "    print ('Prediction Caption:', ' '.join(result))\n",
    "    print(\"Real caption's sentiment is:\",image[1])\n",
    "    # opening the image\n",
    "    pil_img = Image(image[0])\n",
    "    display(pil_img)"
   ]
  },
  {
   "cell_type": "code",
   "execution_count": null,
   "id": "77fafb5b",
   "metadata": {},
   "outputs": [],
   "source": []
  }
 ],
 "metadata": {
  "kernelspec": {
   "display_name": "Python 3 (ipykernel)",
   "language": "python",
   "name": "python3"
  },
  "language_info": {
   "codemirror_mode": {
    "name": "ipython",
    "version": 3
   },
   "file_extension": ".py",
   "mimetype": "text/x-python",
   "name": "python",
   "nbconvert_exporter": "python",
   "pygments_lexer": "ipython3",
   "version": "3.8.15"
  },
  "toc": {
   "base_numbering": 1,
   "nav_menu": {},
   "number_sections": true,
   "sideBar": true,
   "skip_h1_title": false,
   "title_cell": "Table of Contents",
   "title_sidebar": "Contents",
   "toc_cell": false,
   "toc_position": {},
   "toc_section_display": true,
   "toc_window_display": false
  },
  "varInspector": {
   "cols": {
    "lenName": 16,
    "lenType": 16,
    "lenVar": 40
   },
   "kernels_config": {
    "python": {
     "delete_cmd_postfix": "",
     "delete_cmd_prefix": "del ",
     "library": "var_list.py",
     "varRefreshCmd": "print(var_dic_list())"
    },
    "r": {
     "delete_cmd_postfix": ") ",
     "delete_cmd_prefix": "rm(",
     "library": "var_list.r",
     "varRefreshCmd": "cat(var_dic_list()) "
    }
   },
   "types_to_exclude": [
    "module",
    "function",
    "builtin_function_or_method",
    "instance",
    "_Feature"
   ],
   "window_display": false
  }
 },
 "nbformat": 4,
 "nbformat_minor": 5
}
